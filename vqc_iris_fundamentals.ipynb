{
 "cells": [
  {
   "cell_type": "markdown",
   "metadata": {},
   "source": [
    "# Variational Quantum Classifier - Fundamentals\n",
    "\n",
    "_____________\n",
    "\n",
    "In this notebook, I implement a **Variational Quantum Classifier (VQC)**, trained on the [iris dataset.](https://archive.ics.uci.edu/ml/datasets/iris) We will implement the model from scratch, using only basic tools from Qiskit, with the goal of actually understanding how the model works, and what it's doing.\n",
    "\n",
    "A VQC is also called a **Parameterized Quantum Circuit**, which refers to the way these models work: they are quantum circuits whose gates (most often, rotations) are parameterized by free parameters in the parameter vector $\\vec{\\theta}$. These parameters are determined via the minimization of a loss function, calculated on data - that is, the parameters are *learned through data*. Hence, this is an example of a **quantum machine learning** algorithm. However, the optimization of the loss function is carried out classically, which is why we often refer to VQCs as **hybrid (classical-quantum) machine learning models**.\n",
    "\n",
    "Schematically, a VQC circuit can be summarized in 3 components, or layers:\n",
    "\n",
    "- **Feature map $\\mathcal{U}_{\\Phi(\\vec{x})}$**: part of the circuit responsible for encoding classical data $\\vec{x}$ into quantum states which will be processed in the quantum circuit by the quantum algorithm;\n",
    "- **Variational layer $W(\\vec{\\theta})$**: part of the circuit parameterized by $\\vec{\\theta}$. These are the parameters learned in the training process.\n",
    "- **Measurement**: final part of the circuit, consisting of measurements of the quantum register(s), thus producing classical information.\n",
    "\n",
    "<img src=\"https://www.researchgate.net/profile/Claudio-Gambella-2/publication/342464434/figure/fig4/AS:906517855358979@1593142107809/Quantum-circuit-for-Variational-Quantum-Classifier-VQC-that-consists-of-fixed-quantum.jpg\" width=50%>\n",
    "\n",
    "In the picture above, the feature map and variational layers were schematically represented by boxes (or algebraically by $\\mathcal{U}_{\\Phi(\\vec{x})}$, $W(\\vec{\\theta})$, but, naturally, they represent unitary operations which can be constructed in several different ways (that is, different ansätze). The choice of particular constructions is often refered to as the **architecture** of the VQC.\n",
    "\n",
    "As aforementioned, VQC is a hybrid algorithm, because it uses classical routines to optimize the parameters $\\vec{\\theta}$ according to the training data. This process is illustrated below, via the construction of a classical loss/cost function, directly from the measurements of the quantum registers in the last layers of the circuit (which produces classical data):\n",
    "\n",
    "<img src=\"https://media.springernature.com/original/springer-static/image/chp%3A10.1007%2F978-3-030-50433-5_45/MediaObjects/500809_1_En_45_Fig1_HTML.png\" width=50%>\n",
    "\n",
    "VQC is often also refered to as a **Quantum Neural Network**, because of the resemblance between some aspects of its structure and training procedure with respect to that of classical neural networks (NN), which are also layered models whose parameters are determined via the minimization of a loss function evaluated on data:\n",
    "\n",
    "<img src=\"https://machinelearningknowledge.ai/wp-content/uploads/2019/10/Backpropagation.gif\" width=50%>\n",
    "\n",
    "If we draw this analogy, one could say that VQC is a neural network whose forward propagation is quantum (performed by a quantum circuit), whilst its backpropagation (actual optimization step for the minimization of the loss) is performed classically. In context, this analogy is enough for one to call VQC a \"quantum neural network\". But, personally, I think this denomination (implying this analogy) may cause some confusion, for the following reason: one major ingredient of classical neural networks (in great part responsible for its outstanding performance) is the non-linearity introduced by actiavtion functions on the units:\n",
    "\n",
    "<img src=\"https://miro.medium.com/max/512/1*sPg-0hha7o3iNPjY4n-vow.jpeg\" width=50%> \n",
    "\n",
    "<img src=\"https://miro.medium.com/max/1200/1*ZafDv3VUm60Eh10OeJu1vw.png\" width=50%>\n",
    "\n",
    "Now, all gates performed in a quantum circuit are **linear, unitary operators**. Although there are some proposals of implementing non-liniearities in quantum circuits (see, for example [this paper](https://arxiv.org/abs/1806.06871), or [this one](https://arxiv.org/abs/1808.10047) which deals with photonic quantum computing), which would indeed reproduce all major ingredients of a classical neural network (included non-linear activation functions) to be implemented in a quantum computer, this is not a trivial task to be implemented on general architectures. And this is not what we will implement in this notebook. Thus, I prefer to avoid the \"quantum neural network\" denomination, as I think it can be a bit misleading, specitally if taken out of context.\n",
    "\n",
    "______________________"
   ]
  },
  {
   "cell_type": "markdown",
   "metadata": {},
   "source": [
    "In this notebook, we will build a simple variational quantum classifier, to illustrate the procedure and its main ideas. We will use the iris dataset, but reduced to a binary classification of species setosa and versicolor only. Each feature will be encoded in one qubit (therefore, our circuit will consist of 4 qubits). \n",
    "\n",
    "This implementation serves well the goal of understanding what the model is actually doing. But, given its simplicity, its performance probably won't be that great, and that's indeed not the primary goal here. Fot better performing models, I suggest [Qiskit's](https://qiskit.org/documentation/tutorials/machine_learning/03_vqc.html) or [PennyLane's](https://pennylane.ai/qml/demos/tutorial_variational_classifier.html) implementation of variational quantum classifiers. In these implementations, you find not only more flexibility on the model architecture, but also different (and potentially better) ways to perform the optimization (learning) procedure.\n",
    "\n",
    "Let's begin!"
   ]
  },
  {
   "cell_type": "markdown",
   "metadata": {},
   "source": [
    "_____________"
   ]
  },
  {
   "cell_type": "markdown",
   "metadata": {},
   "source": [
    "**Import data analysis/visualization libraries**"
   ]
  },
  {
   "cell_type": "code",
   "execution_count": 1,
   "metadata": {
    "ExecuteTime": {
     "end_time": "2021-05-17T15:17:29.231916Z",
     "start_time": "2021-05-17T15:17:26.234929Z"
    }
   },
   "outputs": [],
   "source": [
    "import numpy as np\n",
    "import pandas as pd\n",
    "\n",
    "import matplotlib.pyplot as plt\n",
    "import seaborn as sns"
   ]
  },
  {
   "cell_type": "markdown",
   "metadata": {},
   "source": [
    "**Reading the data**"
   ]
  },
  {
   "cell_type": "code",
   "execution_count": 2,
   "metadata": {
    "ExecuteTime": {
     "end_time": "2021-05-17T15:17:29.281918Z",
     "start_time": "2021-05-17T15:17:29.234022Z"
    }
   },
   "outputs": [],
   "source": [
    "df = pd.read_csv(\"iris.csv\")"
   ]
  },
  {
   "cell_type": "code",
   "execution_count": 3,
   "metadata": {
    "ExecuteTime": {
     "end_time": "2021-05-17T15:17:29.529827Z",
     "start_time": "2021-05-17T15:17:29.284721Z"
    }
   },
   "outputs": [
    {
     "data": {
      "text/html": [
       "<div>\n",
       "<style scoped>\n",
       "    .dataframe tbody tr th:only-of-type {\n",
       "        vertical-align: middle;\n",
       "    }\n",
       "\n",
       "    .dataframe tbody tr th {\n",
       "        vertical-align: top;\n",
       "    }\n",
       "\n",
       "    .dataframe thead th {\n",
       "        text-align: right;\n",
       "    }\n",
       "</style>\n",
       "<table border=\"1\" class=\"dataframe\">\n",
       "  <thead>\n",
       "    <tr style=\"text-align: right;\">\n",
       "      <th></th>\n",
       "      <th>sepal_length</th>\n",
       "      <th>sepal_width</th>\n",
       "      <th>petal_length</th>\n",
       "      <th>petal_width</th>\n",
       "      <th>species</th>\n",
       "    </tr>\n",
       "  </thead>\n",
       "  <tbody>\n",
       "    <tr>\n",
       "      <th>0</th>\n",
       "      <td>5.1</td>\n",
       "      <td>3.5</td>\n",
       "      <td>1.4</td>\n",
       "      <td>0.2</td>\n",
       "      <td>setosa</td>\n",
       "    </tr>\n",
       "    <tr>\n",
       "      <th>1</th>\n",
       "      <td>4.9</td>\n",
       "      <td>3.0</td>\n",
       "      <td>1.4</td>\n",
       "      <td>0.2</td>\n",
       "      <td>setosa</td>\n",
       "    </tr>\n",
       "    <tr>\n",
       "      <th>2</th>\n",
       "      <td>4.7</td>\n",
       "      <td>3.2</td>\n",
       "      <td>1.3</td>\n",
       "      <td>0.2</td>\n",
       "      <td>setosa</td>\n",
       "    </tr>\n",
       "    <tr>\n",
       "      <th>3</th>\n",
       "      <td>4.6</td>\n",
       "      <td>3.1</td>\n",
       "      <td>1.5</td>\n",
       "      <td>0.2</td>\n",
       "      <td>setosa</td>\n",
       "    </tr>\n",
       "    <tr>\n",
       "      <th>4</th>\n",
       "      <td>5.0</td>\n",
       "      <td>3.6</td>\n",
       "      <td>1.4</td>\n",
       "      <td>0.2</td>\n",
       "      <td>setosa</td>\n",
       "    </tr>\n",
       "  </tbody>\n",
       "</table>\n",
       "</div>"
      ],
      "text/plain": [
       "   sepal_length  sepal_width  petal_length  petal_width species\n",
       "0           5.1          3.5           1.4          0.2  setosa\n",
       "1           4.9          3.0           1.4          0.2  setosa\n",
       "2           4.7          3.2           1.3          0.2  setosa\n",
       "3           4.6          3.1           1.5          0.2  setosa\n",
       "4           5.0          3.6           1.4          0.2  setosa"
      ]
     },
     "execution_count": 3,
     "metadata": {},
     "output_type": "execute_result"
    }
   ],
   "source": [
    "df.head()"
   ]
  },
  {
   "cell_type": "markdown",
   "metadata": {},
   "source": [
    "**Preprocess**"
   ]
  },
  {
   "cell_type": "code",
   "execution_count": 4,
   "metadata": {
    "ExecuteTime": {
     "end_time": "2021-05-17T15:17:29.636608Z",
     "start_time": "2021-05-17T15:17:29.531863Z"
    }
   },
   "outputs": [
    {
     "name": "stdout",
     "output_type": "stream",
     "text": [
      "\n",
      "Target integer-label encoding: {0: 'setosa', 1: 'versicolor', 2: 'virginica'} \n",
      "\n",
      "\n",
      "<class 'pandas.core.frame.DataFrame'>\n",
      "Int64Index: 100 entries, 0 to 99\n",
      "Data columns (total 5 columns):\n",
      " #   Column        Non-Null Count  Dtype  \n",
      "---  ------        --------------  -----  \n",
      " 0   sepal_length  100 non-null    float64\n",
      " 1   sepal_width   100 non-null    float64\n",
      " 2   petal_length  100 non-null    float64\n",
      " 3   petal_width   100 non-null    float64\n",
      " 4   species       100 non-null    int8   \n",
      "dtypes: float64(4), int8(1)\n",
      "memory usage: 4.0 KB\n"
     ]
    }
   ],
   "source": [
    "# map between integer label and categorical target\n",
    "\n",
    "cat_map = dict(zip(df[\"species\"].astype(\"category\").cat.codes, df[\"species\"]))\n",
    "print(\"\\nTarget integer-label encoding:\", cat_map, \"\\n\\n\")\n",
    "\n",
    "# categorical target --> integer label\n",
    "\n",
    "df[\"species\"] = df[\"species\"].astype(\"category\").cat.codes\n",
    "\n",
    "#################################################################################\n",
    "\n",
    "# taking only species 1 and 0 -- binary classification\n",
    "\n",
    "df = df[df[\"species\"].isin([0, 1])]\n",
    "\n",
    "#################################################################################\n",
    "\n",
    "df.info()"
   ]
  },
  {
   "cell_type": "code",
   "execution_count": 5,
   "metadata": {
    "ExecuteTime": {
     "end_time": "2021-05-17T15:17:34.444951Z",
     "start_time": "2021-05-17T15:17:29.639063Z"
    }
   },
   "outputs": [
    {
     "data": {
      "text/plain": [
       "<seaborn.axisgrid.PairGrid at 0x7f260de35b50>"
      ]
     },
     "execution_count": 5,
     "metadata": {},
     "output_type": "execute_result"
    },
    {
     "data": {
      "image/png": "[encoded data removed]",
      "text/plain": [
       "<Figure size 765.375x720 with 20 Axes>"
      ]
     },
     "metadata": {
      "needs_background": "light"
     },
     "output_type": "display_data"
    }
   ],
   "source": [
    "sns.pairplot(df, hue=\"species\")"
   ]
  },
  {
   "cell_type": "code",
   "execution_count": 6,
   "metadata": {
    "ExecuteTime": {
     "end_time": "2021-05-17T15:17:34.450884Z",
     "start_time": "2021-05-17T15:17:34.446845Z"
    }
   },
   "outputs": [],
   "source": [
    "# features\n",
    "X = df.drop(columns=\"species\")\n",
    "\n",
    "# target\n",
    "y = df[\"species\"]"
   ]
  },
  {
   "cell_type": "code",
   "execution_count": 7,
   "metadata": {
    "ExecuteTime": {
     "end_time": "2021-05-17T15:17:36.058356Z",
     "start_time": "2021-05-17T15:17:34.452910Z"
    }
   },
   "outputs": [],
   "source": [
    "# train-test split, 20% test\n",
    "\n",
    "from sklearn.model_selection import train_test_split\n",
    "\n",
    "X_train, X_test, y_train, y_test = train_test_split(X, y, \n",
    "                                                    test_size=0.2, \n",
    "                                                    random_state=42, \n",
    "                                                    stratify=y)"
   ]
  },
  {
   "cell_type": "markdown",
   "metadata": {},
   "source": [
    "___________\n"
   ]
  },
  {
   "cell_type": "markdown",
   "metadata": {},
   "source": [
    "**Classical classifier benchmark: logistic regression**"
   ]
  },
  {
   "cell_type": "code",
   "execution_count": 8,
   "metadata": {
    "ExecuteTime": {
     "end_time": "2021-05-17T15:17:36.295371Z",
     "start_time": "2021-05-17T15:17:36.063219Z"
    }
   },
   "outputs": [
    {
     "name": "stdout",
     "output_type": "stream",
     "text": [
      "Claffical classifier (Logistic Regression):\n",
      "\n",
      "              precision    recall  f1-score   support\n",
      "\n",
      "           0       1.00      1.00      1.00        10\n",
      "           1       1.00      1.00      1.00        10\n",
      "\n",
      "    accuracy                           1.00        20\n",
      "   macro avg       1.00      1.00      1.00        20\n",
      "weighted avg       1.00      1.00      1.00        20\n",
      "\n",
      "[[10  0]\n",
      " [ 0 10]]\n"
     ]
    }
   ],
   "source": [
    "from sklearn.linear_model import LogisticRegression\n",
    "\n",
    "logit = LogisticRegression(random_state=42).fit(X, y)\n",
    "\n",
    "y_pred = logit.predict(X_test)\n",
    "\n",
    "#################################################################################\n",
    "\n",
    "from sklearn.metrics import classification_report, confusion_matrix\n",
    "\n",
    "print(\"Claffical classifier (Logistic Regression):\\n\")\n",
    "print(classification_report(y_test, y_pred))\n",
    "print(confusion_matrix(y_test, y_pred))"
   ]
  },
  {
   "cell_type": "markdown",
   "metadata": {},
   "source": [
    "As expected, the very simple classical classifier Logistic Regression worked very well, given the linear separability of our data. Let's now see how our quantum classifier works!"
   ]
  },
  {
   "cell_type": "markdown",
   "metadata": {},
   "source": [
    "___________\n"
   ]
  },
  {
   "cell_type": "markdown",
   "metadata": {},
   "source": [
    "**Variational Quantum Classifier**\n",
    "\n",
    "Let's now start building the VQC!\n",
    "\n",
    "To begin with, let's import the relevant functions of qiskit:"
   ]
  },
  {
   "cell_type": "code",
   "execution_count": 9,
   "metadata": {
    "ExecuteTime": {
     "end_time": "2021-05-17T15:17:41.986817Z",
     "start_time": "2021-05-17T15:17:36.297832Z"
    }
   },
   "outputs": [],
   "source": [
    "from qiskit import QuantumRegister, ClassicalRegister, QuantumCircuit"
   ]
  },
  {
   "cell_type": "markdown",
   "metadata": {},
   "source": [
    "Defining the number of qubits in the quantum circuit:"
   ]
  },
  {
   "cell_type": "code",
   "execution_count": 10,
   "metadata": {
    "ExecuteTime": {
     "end_time": "2021-05-17T15:17:41.997083Z",
     "start_time": "2021-05-17T15:17:41.989717Z"
    }
   },
   "outputs": [],
   "source": [
    "# we'll encode each feature in a single qubit. Thus, that's the number of qubits\n",
    "\n",
    "N = X.shape[1]"
   ]
  },
  {
   "cell_type": "markdown",
   "metadata": {},
   "source": [
    "**Initial state**\n",
    "\n",
    "We initialize the computation with the initial state\n",
    "\n",
    "$$ \\left | \\psi_0 \\right > = \\left | 0 \\right > ^{\\otimes N} $$ \n",
    "\n",
    "where in the iris dataset case, $N=4$."
   ]
  },
  {
   "cell_type": "code",
   "execution_count": 11,
   "metadata": {
    "ExecuteTime": {
     "end_time": "2021-05-17T15:17:42.964428Z",
     "start_time": "2021-05-17T15:17:42.000205Z"
    }
   },
   "outputs": [
    {
     "name": "stdout",
     "output_type": "stream",
     "text": [
      "\n",
      "Initial Circuit:\n",
      "\n"
     ]
    },
    {
     "data": {
      "image/png": "[encoded data removed]",
      "text/plain": [
       "<Figure size 86.5974x325.08 with 1 Axes>"
      ]
     },
     "execution_count": 11,
     "metadata": {},
     "output_type": "execute_result"
    }
   ],
   "source": [
    "# let's start with N quantum register and 1 single classical register (for measurement readout)\n",
    "\n",
    "qr = QuantumRegister(N, \"q\")\n",
    "cr = ClassicalRegister(1, \"c\")\n",
    "\n",
    "qc = QuantumCircuit(qr, cr)\n",
    "\n",
    "print(\"\\nInitial Circuit:\\n\")\n",
    "\n",
    "qc.draw(\"mpl\")"
   ]
  },
  {
   "cell_type": "markdown",
   "metadata": {},
   "source": [
    "______\n",
    "\n",
    "### Feature map\n",
    "\n",
    "Encode classical data as rotation angles!\n",
    "\n",
    "We will encode **one single observation in the circuit**. So, the qubits will be rotated by an anlge proportional to the respective feature of a single row (observation) per time.\n",
    "\n",
    "The state is:\n",
    "\n",
    "$$ \\left | \\psi_{1, k} \\right >  = \\prod_{i=0}^{N-1} R_x(\\phi_{i, k}, i) \\left | \\psi_0 \\right >  \\ , $$\n",
    "\n",
    "where $\\phi_{i, k} = X_{i, k}$ represents the value of the $i$-th feature ($i = 0, 1, \\cdots, N-1$, in the iris dataset case, $N=4$) of the $k$-ith training observation (in the iris dataset case, with 20% test size, $k=80$). This precise value is used as the $R_x$ rotation angle. Naturally, each rotation $R_x$ acts in the respective $i$-th register (second argument).\n",
    "\n",
    "Remember, the $R_x$ is\n",
    "\n",
    "$$ \\begin{align}\\begin{aligned}\\newcommand{\\th}{\\frac{\\phi}{2}}\\\\\\begin{split}R_x(\\theta) = \\text{e}^{-i \\th X} =\n",
    "    \\begin{pmatrix}\n",
    "        \\cos{\\th}   & -i\\sin{\\th} \\\\\n",
    "        -i\\sin{\\th} & \\cos{\\th}\n",
    "    \\end{pmatrix}\\end{split}\\end{aligned}\\end{align}$$\n",
    " "
   ]
  },
  {
   "cell_type": "code",
   "execution_count": 12,
   "metadata": {
    "ExecuteTime": {
     "end_time": "2021-05-17T15:17:42.978736Z",
     "start_time": "2021-05-17T15:17:42.969378Z"
    }
   },
   "outputs": [],
   "source": [
    "# selecting one single observation\n",
    "\n",
    "k = 0\n",
    "obs_k = X_train.iloc[k]"
   ]
  },
  {
   "cell_type": "code",
   "execution_count": 13,
   "metadata": {
    "ExecuteTime": {
     "end_time": "2021-05-17T15:17:43.210434Z",
     "start_time": "2021-05-17T15:17:42.982959Z"
    }
   },
   "outputs": [
    {
     "data": {
      "text/plain": [
       "sepal_length    5.7\n",
       "sepal_width     4.4\n",
       "petal_length    1.5\n",
       "petal_width     0.4\n",
       "Name: 15, dtype: float64"
      ]
     },
     "execution_count": 13,
     "metadata": {},
     "output_type": "execute_result"
    }
   ],
   "source": [
    "obs_k"
   ]
  },
  {
   "cell_type": "code",
   "execution_count": 14,
   "metadata": {
    "ExecuteTime": {
     "end_time": "2021-05-17T15:17:43.542301Z",
     "start_time": "2021-05-17T15:17:43.212321Z"
    }
   },
   "outputs": [
    {
     "data": {
      "image/png": "[encoded data removed]",
      "text/plain": [
       "<Figure size 146.797x325.08 with 1 Axes>"
      ]
     },
     "execution_count": 14,
     "metadata": {},
     "output_type": "execute_result"
    }
   ],
   "source": [
    "for i, phi_ik in enumerate(obs_k):\n",
    "    \n",
    "    qc.rx(phi_ik, i)\n",
    "    \n",
    "qc.draw(\"mpl\")"
   ]
  },
  {
   "cell_type": "markdown",
   "metadata": {},
   "source": [
    "________\n",
    "\n",
    "### Variational Layer\n",
    "\n",
    "Let's now build the parameterized (variational) layer of the circuit!\n",
    "\n",
    "This part of the circuit will be made of parameterized rotations, whose parameters will be learned through the mimization of a cost function (which will be introduced later on), using the data. The parameters of the rotation will be collectively represented via the **variational paramets vector $\\vec{\\theta}$**, whose dimension depends on the chosen number of parameters. In the first example, we stick to 4 variational parameters, thus, $\\vec{\\theta}$ is 4-dimensional.\n",
    "\n",
    "As it's the case with classical neural networks, the particular topology (architecture) of the variational circuit will influence the final model, and one should iterate different architectures to tune the model. In the second notebook in this repository, we try different architectures. In this first version, let's build the most natural architecutre: CNOTs between the registers to induce entanglement, followed by a final CNOT between the first and last register (with the first qubit as target), then followed by parameterized rotations (around the y-axis, to introduce rotations in a diferent axis from the feature map):\n",
    "\n",
    "$$ \\left | \\psi_{2, k} \\right > = U_{\\text{var}} ( \\vec{\\theta} ) \\left | \\psi_{1, k} \\right >  \\ , $$\n",
    "\n",
    "where the variational portion of the circuit is represented by the unitary $U_{\\text{var}}(\\vec{\\theta})$, which is given by\n",
    "\n",
    "$$ U_{\\text{var}}(\\vec{\\theta}) =  \\prod_{i=0}^{N-1} R_y(\\theta_i, i) C_{\\text{NOT}}(N-1, 0) \\prod_{i=0}^{N-2} C_{\\text{NOT}}(i, i+1)$$\n",
    "\n",
    "Let's implement the code:"
   ]
  },
  {
   "cell_type": "code",
   "execution_count": 15,
   "metadata": {
    "ExecuteTime": {
     "end_time": "2021-05-17T15:17:43.829205Z",
     "start_time": "2021-05-17T15:17:43.544270Z"
    }
   },
   "outputs": [
    {
     "data": {
      "image/png": "[encoded data removed]",
      "text/plain": [
       "<Figure size 327.397x325.08 with 1 Axes>"
      ]
     },
     "execution_count": 15,
     "metadata": {},
     "output_type": "execute_result"
    }
   ],
   "source": [
    "# CNOTs to induce entanglement\n",
    "\n",
    "for i in range(N-1):\n",
    "    \n",
    "    qc.cnot(i, i+1)\n",
    "    \n",
    "qc.draw(\"mpl\")"
   ]
  },
  {
   "cell_type": "code",
   "execution_count": 16,
   "metadata": {
    "ExecuteTime": {
     "end_time": "2021-05-17T15:17:44.135652Z",
     "start_time": "2021-05-17T15:17:43.831485Z"
    }
   },
   "outputs": [
    {
     "data": {
      "image/png": "[encoded data removed]",
      "text/plain": [
       "<Figure size 387.597x325.08 with 1 Axes>"
      ]
     },
     "execution_count": 16,
     "metadata": {},
     "output_type": "execute_result"
    }
   ],
   "source": [
    "# CNOT, targeted on the first register\n",
    "\n",
    "qc.cnot(N-1, 0)\n",
    "\n",
    "qc.draw(\"mpl\")"
   ]
  },
  {
   "cell_type": "code",
   "execution_count": 17,
   "metadata": {
    "ExecuteTime": {
     "end_time": "2021-05-17T15:17:44.509040Z",
     "start_time": "2021-05-17T15:17:44.139565Z"
    }
   },
   "outputs": [
    {
     "data": {
      "image/png": "[encoded data removed]",
      "text/plain": [
       "<Figure size 447.797x325.08 with 1 Axes>"
      ]
     },
     "execution_count": 17,
     "metadata": {},
     "output_type": "execute_result"
    }
   ],
   "source": [
    "# parameterized rotations\n",
    "\n",
    "# first, let's introduce a vector of (random) parameters. \n",
    "# that's the parameter vector \\vec{\\theta}\n",
    "\n",
    "np.random.seed(42)\n",
    "theta = np.random.uniform(0, 1, N)\n",
    "\n",
    "for i in range(N):\n",
    "    \n",
    "    qc.ry(theta[i], i)\n",
    "    \n",
    "qc.draw(\"mpl\")"
   ]
  },
  {
   "cell_type": "markdown",
   "metadata": {},
   "source": [
    "________\n",
    "\n",
    "### Measurement\n",
    "\n",
    "Now, the first quantum register is measured. \n",
    "\n",
    "As the targets are binary (and encoded as 0/1), this measurement will be the circuit prediction!\n",
    "\n",
    "The variational circuit above, apart from the respective parameterized rotations in each qubit, also introduced entanglement (top-down and bottom-up). With this, *loosely speaking*, all the registers are entangled, and information is carried out back to the first register.\n",
    "\n",
    "Therefore, *the measurement of the first register will be the circuit prediction for the given obervartion (whose features were encoded in the qubits via the rotations in the feature map), after it passed through the parameterized rotations (which shall be trained on data)*\n"
   ]
  },
  {
   "cell_type": "code",
   "execution_count": 18,
   "metadata": {
    "ExecuteTime": {
     "end_time": "2021-05-17T15:17:44.912832Z",
     "start_time": "2021-05-17T15:17:44.510989Z"
    }
   },
   "outputs": [
    {
     "data": {
      "image/png": "[encoded data removed]",
      "text/plain": [
       "<Figure size 507.997x325.08 with 1 Axes>"
      ]
     },
     "execution_count": 18,
     "metadata": {},
     "output_type": "execute_result"
    }
   ],
   "source": [
    "# measure the first qubit and put its readout in the classical register\n",
    "\n",
    "qc.measure(0, cr)\n",
    "\n",
    "qc.draw(\"mpl\")"
   ]
  },
  {
   "cell_type": "markdown",
   "metadata": {},
   "source": [
    "_______\n",
    "\n",
    "### Run the full circuit\n",
    "\n",
    "Now, we must run the circuit to see its output!\n",
    "\n",
    "Remember, this is just like a NN whose weights were randomly initialized prior to the training: we do not expect it to get the right result as it is right now. The goal will be to **train** the rotations parameters with data, so that the trained circuit will yield good predictions for the target. We will get to this soon.\n",
    "\n",
    "But first, let's see the results. We will run the circuit in a [simulator](https://qiskit.org/documentation/tutorials/simulators/1_aer_provider.html) from Aer (qasm, simulator of an actual quantum device: it yields the values in the classical register)"
   ]
  },
  {
   "cell_type": "code",
   "execution_count": 19,
   "metadata": {
    "ExecuteTime": {
     "end_time": "2021-05-17T15:17:44.922411Z",
     "start_time": "2021-05-17T15:17:44.915065Z"
    }
   },
   "outputs": [],
   "source": [
    "# import provider for simulator and define the simulator backend\n",
    "\n",
    "from qiskit import Aer\n",
    "\n",
    "backend = Aer.get_backend(\"qasm_simulator\")"
   ]
  },
  {
   "cell_type": "code",
   "execution_count": 20,
   "metadata": {
    "ExecuteTime": {
     "end_time": "2021-05-17T15:17:45.310111Z",
     "start_time": "2021-05-17T15:17:44.924595Z"
    }
   },
   "outputs": [],
   "source": [
    "# defining the job and sending it to execute in the defined backend\n",
    "# we will run the circuit a n_runs number of times\n",
    "# we fix the simulator seed for reproducibility\n",
    "\n",
    "n_runs = 1e3\n",
    "\n",
    "from qiskit import execute\n",
    "\n",
    "job = execute(qc, backend, shots=n_runs, seed_simulator=42)"
   ]
  },
  {
   "cell_type": "code",
   "execution_count": 21,
   "metadata": {
    "ExecuteTime": {
     "end_time": "2021-05-17T15:17:45.316778Z",
     "start_time": "2021-05-17T15:17:45.312059Z"
    }
   },
   "outputs": [
    {
     "data": {
      "text/plain": [
       "Result(backend_name='qasm_simulator', backend_version='0.7.5', qobj_id='8632bf70-f135-46f3-bab6-6dd4dbdfd16c', job_id='3f86aa66-d7b2-4b8c-b924-09af24b34ff7', success=True, results=[ExperimentResult(shots=1000, success=True, meas_level=MeasLevel.CLASSIFIED, data=ExperimentResultData(counts={'0x0': 510, '0x1': 490}), header=QobjExperimentHeader(clbit_labels=[['c', 0]], creg_sizes=[['c', 1]], global_phase=0.0, memory_slots=1, n_qubits=4, name='circuit7', qreg_sizes=[['q', 4]], qubit_labels=[['q', 0], ['q', 1], ['q', 2], ['q', 3]]), status=DONE, seed_simulator=42, time_taken=0.003393797, metadata={'fusion': {'applied': False, 'enabled': True, 'method': 'unitary', 'threshold': 14}, 'measure_sampling': True, 'method': 'statevector', 'parallel_shots': 1, 'parallel_state_update': 4})], date=2021-05-17T12:17:45.308326, status=COMPLETED, status=QobjHeader(backend_name='qasm_simulator', backend_version='0.7.5'), metadata={'max_memory_mb': 1919, 'omp_enabled': True, 'parallel_experiments': 1, 'time_taken': 0.003703528}, time_taken=0.00401759147644043)"
      ]
     },
     "execution_count": 21,
     "metadata": {},
     "output_type": "execute_result"
    }
   ],
   "source": [
    "# getting the results of the job execution\n",
    "\n",
    "results = job.result()\n",
    "\n",
    "results"
   ]
  },
  {
   "cell_type": "code",
   "execution_count": 22,
   "metadata": {
    "ExecuteTime": {
     "end_time": "2021-05-17T15:17:45.422668Z",
     "start_time": "2021-05-17T15:17:45.318713Z"
    }
   },
   "outputs": [
    {
     "data": {
      "text/plain": [
       "{'0': 510, '1': 490}"
      ]
     },
     "execution_count": 22,
     "metadata": {},
     "output_type": "execute_result"
    }
   ],
   "source": [
    "# To get the resulting counts (of measurements in the classical register),\n",
    "# we use the get_counts() method\n",
    "\n",
    "counts = results.get_counts()\n",
    "\n",
    "counts"
   ]
  },
  {
   "cell_type": "code",
   "execution_count": 23,
   "metadata": {
    "ExecuteTime": {
     "end_time": "2021-05-17T15:17:45.652533Z",
     "start_time": "2021-05-17T15:17:45.428400Z"
    }
   },
   "outputs": [
    {
     "data": {
      "image/png": "[encoded data removed]",
      "text/plain": [
       "<Figure size 504x360 with 1 Axes>"
      ]
     },
     "execution_count": 23,
     "metadata": {},
     "output_type": "execute_result"
    }
   ],
   "source": [
    "# ploting the counts above as a histogram\n",
    "\n",
    "from qiskit.visualization import plot_histogram\n",
    "\n",
    "plot_histogram(counts, title=\"Results\")"
   ]
  },
  {
   "cell_type": "markdown",
   "metadata": {},
   "source": [
    "It's useful (just like the logit), to interpret the results of the VQC as predictions of the probability $P(y_k=1 | x_k)$, that is, as the probability that the observation belongs to class 1:"
   ]
  },
  {
   "cell_type": "code",
   "execution_count": 24,
   "metadata": {
    "ExecuteTime": {
     "end_time": "2021-05-17T15:17:45.664298Z",
     "start_time": "2021-05-17T15:17:45.657047Z"
    }
   },
   "outputs": [
    {
     "data": {
      "text/plain": [
       "0.49"
      ]
     },
     "execution_count": 24,
     "metadata": {},
     "output_type": "execute_result"
    }
   ],
   "source": [
    "p_y_k = counts[\"1\"]/n_runs\n",
    "\n",
    "p_y_k"
   ]
  },
  {
   "cell_type": "markdown",
   "metadata": {},
   "source": [
    "We then can make the prediction, using a 50% threshold:"
   ]
  },
  {
   "cell_type": "code",
   "execution_count": 25,
   "metadata": {
    "ExecuteTime": {
     "end_time": "2021-05-17T15:17:45.749133Z",
     "start_time": "2021-05-17T15:17:45.666087Z"
    }
   },
   "outputs": [
    {
     "data": {
      "text/plain": [
       "0"
      ]
     },
     "execution_count": 25,
     "metadata": {},
     "output_type": "execute_result"
    }
   ],
   "source": [
    "y_pred_k = 1 if p_y_k > 0.5 else 0\n",
    "\n",
    "y_pred_k"
   ]
  },
  {
   "cell_type": "markdown",
   "metadata": {},
   "source": [
    "Comparing with the actual label:"
   ]
  },
  {
   "cell_type": "code",
   "execution_count": 26,
   "metadata": {
    "ExecuteTime": {
     "end_time": "2021-05-17T15:17:45.833379Z",
     "start_time": "2021-05-17T15:17:45.751398Z"
    }
   },
   "outputs": [
    {
     "data": {
      "text/plain": [
       "0"
      ]
     },
     "execution_count": 26,
     "metadata": {},
     "output_type": "execute_result"
    }
   ],
   "source": [
    "y_train.iloc[k]"
   ]
  },
  {
   "cell_type": "markdown",
   "metadata": {},
   "source": [
    "The model got the label right, but it was almost a 50/50 tie...\n",
    "\n",
    "Let's see if it was a difficult choice, comparing with the classical model:"
   ]
  },
  {
   "cell_type": "code",
   "execution_count": 27,
   "metadata": {
    "ExecuteTime": {
     "end_time": "2021-05-17T15:17:45.920452Z",
     "start_time": "2021-05-17T15:17:45.835556Z"
    }
   },
   "outputs": [
    {
     "data": {
      "text/plain": [
       "array([[0.9858607, 0.0141393]])"
      ]
     },
     "execution_count": 27,
     "metadata": {},
     "output_type": "execute_result"
    }
   ],
   "source": [
    "logit.predict_proba(X_train.iloc[k].values.reshape(1, -1))"
   ]
  },
  {
   "cell_type": "markdown",
   "metadata": {},
   "source": [
    "Not really! It should undoubtly be predicted to be 0!\n",
    "\n",
    "Of course, though, this was expected, since the paremeters of the variational circuit where randomly initialized! To get actual data-driven predictions, we must train our VQC using the training data. That's what we will do below!\n",
    "\n",
    "But before we get to the training of the VQC, it will be very useful to condense everything we did above in functions. When we get to the training, it will be clear why this will be important. So, let's do it:"
   ]
  },
  {
   "cell_type": "code",
   "execution_count": 28,
   "metadata": {
    "ExecuteTime": {
     "end_time": "2021-05-17T15:17:46.000226Z",
     "start_time": "2021-05-17T15:17:45.922841Z"
    }
   },
   "outputs": [],
   "source": [
    "# functions for the circuit construction\n",
    "\n",
    "def initialize_circuit(Nq, Nc):\n",
    "    '''\n",
    "    initializes a circuit with Nq quantum registers and Nc classical registers\n",
    "    '''\n",
    "    \n",
    "    # quantum and classical registers\n",
    "    qr = QuantumRegister(Nq, \"q\")\n",
    "    cr = ClassicalRegister(Nc, \"c\")\n",
    "\n",
    "    # quantum circuit\n",
    "    qc = QuantumCircuit(qr, cr)\n",
    "\n",
    "    return qc\n",
    "\n",
    "#########################################################################################\n",
    "#########################################################################################\n",
    "\n",
    "def feature_map(qc, X_k):\n",
    "    '''\n",
    "    encodes classical data (in the array X) into the quantum circuit initial state.\n",
    "    each component of the X array is encoded in the respective quantum register.\n",
    "    the encoding is achieved via a Rx rotation, whose angle is the respective X component\n",
    "    '''\n",
    "    \n",
    "    # data encoding with Rx rotations\n",
    "    for i, phi_ik in enumerate(X_k):\n",
    "    \n",
    "        qc.rx(phi_ik, i)\n",
    "        \n",
    "    return qc\n",
    "\n",
    "#########################################################################################\n",
    "#########################################################################################\n",
    "\n",
    "def variational_circuit(qc, theta):\n",
    "    '''\n",
    "    implements the variational portion of the quantum cirrcuit.\n",
    "    the particular architecture will be: CNOTs between the registers;\n",
    "    followed by parameterized Ry rotations (parameters defined by the argument \"theta\"); \n",
    "    '''\n",
    "    \n",
    "    # CNOTs to induce entanglement\n",
    "    for i in range(N-1):\n",
    "    \n",
    "        qc.cnot(i, i+1)\n",
    "        \n",
    "    # final CNOT, targeted on the first register\n",
    "    qc.cnot(N-1, 0)\n",
    "\n",
    "    # parameterized rotations\n",
    "    for i in range(N):\n",
    "\n",
    "        qc.ry(theta[i], i)\n",
    "        \n",
    "    return qc\n",
    "        \n",
    "#########################################################################################\n",
    "#########################################################################################\n",
    "\n",
    "\n",
    "def measurement(qc):\n",
    "    '''\n",
    "    measure the first quantum register into the classical register\n",
    "    '''\n",
    "    \n",
    "    qc.measure(0, -1)\n",
    "    \n",
    "    return qc"
   ]
  },
  {
   "cell_type": "code",
   "execution_count": 29,
   "metadata": {
    "ExecuteTime": {
     "end_time": "2021-05-17T15:17:46.104823Z",
     "start_time": "2021-05-17T15:17:46.002671Z"
    }
   },
   "outputs": [],
   "source": [
    "# full function to construct the circuit\n",
    "\n",
    "def build_circuit(Nq, Nc, X, theta, k, show_circuit=True):\n",
    "    '''\n",
    "    construct and return the quantum circuit for the variational quantum classifier\n",
    "    '''\n",
    "\n",
    "    qc = initialize_circuit(Nq, Nc)\n",
    "    \n",
    "    feature_map(qc, X.iloc[k])\n",
    "    \n",
    "    variational_circuit(qc, theta)\n",
    "    \n",
    "    measurement(qc)\n",
    "    \n",
    "    if show_circuit:\n",
    "        \n",
    "        show_figure(qc.draw(\"mpl\"))\n",
    "        \n",
    "    return qc"
   ]
  },
  {
   "cell_type": "code",
   "execution_count": 30,
   "metadata": {
    "ExecuteTime": {
     "end_time": "2021-05-17T15:17:46.189363Z",
     "start_time": "2021-05-17T15:17:46.108131Z"
    }
   },
   "outputs": [],
   "source": [
    "# functions for the circuit execution\n",
    "\n",
    "def run_circuit(qc, simulator=True, backend_name = \"qasm_simulator\", n_runs=1e3, seed_simulator=None):\n",
    "    '''\n",
    "    executes the quantum circuit in the specified backend (in the moment, it's just a simulator)\n",
    "    TODO: allow for actual hardware\n",
    "    the number of executions can also be specified.\n",
    "    returns the results of the execution.\n",
    "    '''\n",
    "    \n",
    "    if simulator:\n",
    "        \n",
    "        # import provider for simulator and define the simulator backend\n",
    "        backend = Aer.get_backend(backend_name)\n",
    "        \n",
    "    else:\n",
    "        \n",
    "        pass\n",
    "        # # todo: quantum hardware\n",
    "        # backend = ...\n",
    "        \n",
    "    # defining the job and sending it to execute in the defined backend\n",
    "    # we will run the circuit a n_runs number of times\n",
    "    job = execute(qc, backend, shots=n_runs, seed_simulator=seed_simulator)\n",
    "    \n",
    "    # getting the results of the job execution\n",
    "    results = job.result()\n",
    "    \n",
    "    return results\n",
    "\n",
    "#########################################################################################\n",
    "#########################################################################################\n",
    "\n",
    "def show_figure(fig):\n",
    "    '''\n",
    "    auxiliar function to display plot \n",
    "    even if it's not the last command of the cell\n",
    "    from: https://github.com/Qiskit/qiskit-terra/issues/1682\n",
    "    '''\n",
    "    \n",
    "    new_fig = plt.figure()\n",
    "    new_mngr = new_fig.canvas.manager\n",
    "    new_mngr.canvas.figure = fig\n",
    "    fig.set_canvas(new_mngr.canvas)\n",
    "    plt.show(fig)\n",
    "\n",
    "#########################################################################################\n",
    "#########################################################################################\n",
    "\n",
    "def final_answer(results, thresh=0.5, n_runs=1e3, visualize_results=False):\n",
    "    '''\n",
    "    calculate the probability of the observation belonging to class 1\n",
    "    i.e., like the logit, calculation of P(y=1|x). \n",
    "    the actual class prediction is also calculated. both are returned.\n",
    "    an optional visualization of the execution results as a histogram is also available\n",
    "    '''\n",
    "\n",
    "    # getting the resulting counts (of measurements in the classical register),\n",
    "    counts = results.get_counts()\n",
    "    \n",
    "    if visualize_results:\n",
    "        # ploting the counts as a histogram\n",
    "        show_figure(plot_histogram(counts, title=\"Results\"))\n",
    "        \n",
    "    # p(y=1 | x) - probability of observation belonging to class 1\n",
    "    p_y = counts[\"1\"]/n_runs\n",
    "    \n",
    "    # actual prediction, according to the specified threshold\n",
    "    y_pred = 1 if p_y > thresh else 0\n",
    "    \n",
    "    return p_y, y_pred"
   ]
  },
  {
   "cell_type": "code",
   "execution_count": 31,
   "metadata": {
    "ExecuteTime": {
     "end_time": "2021-05-17T15:17:46.294195Z",
     "start_time": "2021-05-17T15:17:46.192144Z"
    }
   },
   "outputs": [],
   "source": [
    "# full vqc function (takes the quantum circuit as input and executes it)\n",
    "\n",
    "def vqc(qc, simulator=True, backend_name = \"qasm_simulator\", n_runs=1e3,\n",
    "        thresh=0.5, visualize_results=False, seed_simulator=None):\n",
    "    '''\n",
    "    this function integrates all the functions above in a single structure\n",
    "    and returns p_y\n",
    "    the only input is the integer k, used as an index for the chosen observation\n",
    "    returns the final answer (probability and prediction)\n",
    "    '''\n",
    "    \n",
    "    results = run_circuit(qc, seed_simulator=seed_simulator)\n",
    "\n",
    "    return final_answer(results, visualize_results=visualize_results)"
   ]
  },
  {
   "cell_type": "markdown",
   "metadata": {},
   "source": [
    "Running the full VQC:"
   ]
  },
  {
   "cell_type": "code",
   "execution_count": 32,
   "metadata": {
    "ExecuteTime": {
     "end_time": "2021-05-17T15:17:47.080562Z",
     "start_time": "2021-05-17T15:17:46.296878Z"
    },
    "scrolled": true
   },
   "outputs": [
    {
     "data": {
      "image/png": "[encoded data removed]",
      "text/plain": [
       "<Figure size 507.997x325.08 with 1 Axes>"
      ]
     },
     "metadata": {},
     "output_type": "display_data"
    },
    {
     "data": {
      "image/png": "[encoded data removed]",
      "text/plain": [
       "<Figure size 504x360 with 1 Axes>"
      ]
     },
     "metadata": {
      "needs_background": "light"
     },
     "output_type": "display_data"
    },
    {
     "name": "stdout",
     "output_type": "stream",
     "text": [
      "Predicted p(y=1|x) for the 0-th training observation: 0.49\n",
      "Therefore, this observation is classified as 0\n"
     ]
    }
   ],
   "source": [
    "np.random.seed(42)\n",
    "theta = np.random.uniform(0, 1, N)\n",
    "\n",
    "qc = build_circuit(N, 1, X_train, theta, k=0, show_circuit=True)\n",
    "\n",
    "p_y_k, y_pred_k = vqc(qc, seed_simulator=42, visualize_results=True)\n",
    "\n",
    "print(\"Predicted p(y=1|x) for the \" + str(k) + \"-th training observation:\", p_y_k)\n",
    "print(\"Therefore, this observation is classified as\", y_pred_k)"
   ]
  },
  {
   "cell_type": "markdown",
   "metadata": {},
   "source": [
    "Now let's proceed to the training!"
   ]
  },
  {
   "cell_type": "markdown",
   "metadata": {},
   "source": [
    "______\n",
    "\n",
    "### Training the VQC\n",
    "\n",
    "First, we must define our loss function. In this first example, let's go simple and use the squared error $L_k (\\hat{y}, y) = (\\hat{P}(y_k) - P(y_k))^2 = (\\hat{P}(y_k)- y_k)^2$ as our loss, where $P(y_k) \\equiv P(y_k | x_k)$.  Considering different losses will also be part of a next step of improvements!"
   ]
  },
  {
   "cell_type": "code",
   "execution_count": 33,
   "metadata": {
    "ExecuteTime": {
     "end_time": "2021-05-17T15:17:47.085504Z",
     "start_time": "2021-05-17T15:17:47.082274Z"
    }
   },
   "outputs": [],
   "source": [
    "def loss_SE(p_y_k, y, k):\n",
    "    '''\n",
    "    computes the squared error (SE) loss\n",
    "    '''\n",
    "    \n",
    "    return (p_y_k - y.iloc[k])**2"
   ]
  },
  {
   "cell_type": "code",
   "execution_count": 34,
   "metadata": {
    "ExecuteTime": {
     "end_time": "2021-05-17T15:17:47.197077Z",
     "start_time": "2021-05-17T15:17:47.087363Z"
    }
   },
   "outputs": [
    {
     "data": {
      "text/plain": [
       "0.24009999999999998"
      ]
     },
     "execution_count": 34,
     "metadata": {},
     "output_type": "execute_result"
    }
   ],
   "source": [
    "loss_SE(p_y_k, y_train, k)"
   ]
  },
  {
   "cell_type": "markdown",
   "metadata": {},
   "source": [
    "Now, we must minimize the loss function $L_k(\\hat{y}, y)$ with respect to the variational parameters vector $\\vec{\\theta}$.\n",
    "\n",
    "In the context of neural networks, this optimization is often achieved with the [gradient descent](https://en.wikipedia.org/wiki/Gradient_descent) algorithm, which consists of the **update** of the vartiational parameter vector according to:\n",
    "\n",
    "$$ \\vec{\\theta} \\mapsto \\vec{\\theta}  - \\eta \\partial_{\\vec{\\theta}}L_k \\ , $$\n",
    "\n",
    "where $\\eta$ is the [learning rate](https://machinelearningmastery.com/understand-the-dynamics-of-learning-rate-on-deep-learning-neural-networks/), and $\\partial_{\\vec{\\theta}} \\equiv \\partial/\\partial{\\vec{\\theta}}$ denotes the directional derivative with respective to the variational parameters vector $\\vec{\\theta}$.\n",
    "\n",
    "More specifically, in this implementation we shall perform [stochastic gradient descent](https://youtu.be/vMh0zPT0tLI) for the loss optimization, which is characterized by the fact that the weight update step outlined above is performed for every observation of the training dataset.\n",
    "\n",
    "Now, since $\\hat{P}(y_k) = \\hat{P}(y_k(\\vec{\\theta}))$ indirectly depends on $\\vec{\\theta}$, we could in principle analitically calculate the derivatives and then update the variational parameters. But the thing is that the explicit functional dependence of $\\hat{P}(y_k)$ in $\\vec{\\theta}$ could be quite complicated, as it depends on the actual quantum circuit.\n",
    "\n",
    "However, as discussed [in this page of PennyLane](https://pennylane.ai/qml/glossary/parameter_shift.html), there is in fact a very natural way to compute analytic gradients of functions of quantum gates, with the so-called \"parameter-shift rules\", as introduced in [this paper](https://arxiv.org/abs/1803.00745) and extended in [this paper](https://arxiv.org/abs/1811.11184). PennyLane implements these rules natively, which then allows quantum nodes to be added to classical computational graphs, opening a whole new world of hybrid algorithms. I will discuss PennyLane and its great methods in future repositories.\n",
    "\n",
    "In this implementation, we employ another method to compute the derivatives: via the (numeric) [finite difference method](https://en.wikipedia.org/wiki/Finite_difference_method), in which we approximate the derivative with a finite (but small) difference. That is, we will approximate:\n",
    "\n",
    "$$ \\frac{\\partial L_k}{\\partial_{\\theta_i}} \\approx \\frac{L_k(\\hat{y}(\\theta_i + \\delta), y) - L_k(\\hat{y}(\\theta_i), y)}{\\delta} \\ , $$\n",
    "\n",
    "where $\\theta_i$ denotes the $i$-th component of $\\vec{\\theta}$, and $\\delta$ is a small deviation. Naturally, as long as $\\delta$ is finite, this difference will only be an approximation to the actual derivative, which is achieved with $\\delta \\rightarrow 0$. If we choose a small enough $\\delta$, we in general achieve a good approximation, although some care is needed in order to avoid numerical blowups. For some notes on the accuracy of the method, see [this link](https://en.wikipedia.org/wiki/Finite_difference_coefficient). \n",
    "\n",
    "Let's build the functions for the gradient decent:"
   ]
  },
  {
   "cell_type": "code",
   "execution_count": 35,
   "metadata": {
    "ExecuteTime": {
     "end_time": "2021-05-17T15:17:47.280132Z",
     "start_time": "2021-05-17T15:17:47.199791Z"
    }
   },
   "outputs": [],
   "source": [
    "def gradient(N, X, y, k, p_y_k, theta, delta=5e-3, seed_simulator=None):   \n",
    "    '''\n",
    "    computes the directional derivative using the finite difference method\n",
    "    '''\n",
    "    \n",
    "    theta_list = []\n",
    "    for i in range(len(theta)):\n",
    "\n",
    "        theta_list.append(theta.copy())\n",
    "        theta_list[-1][i] = theta_list[-1][i] + delta\n",
    "    \n",
    "    del_theta = []\n",
    "    \n",
    "    for theta_pd in theta_list:\n",
    "        \n",
    "        # below, pd = \"plus delta\"\n",
    "        \n",
    "        qc_pd = build_circuit(N, 1, X, theta_pd, k, show_circuit=False)\n",
    "        p_y_k_pd, _ = vqc(qc_pd, seed_simulator=seed_simulator)\n",
    "\n",
    "        loss_theta = loss_SE(p_y_k, y, k)\n",
    "        loss_theta_pd = loss_SE(p_y_k_pd, y, k)\n",
    "\n",
    "        derivative = (loss_theta_pd - loss_theta)/delta\n",
    "\n",
    "        del_theta.append(derivative)\n",
    "        \n",
    "    return np.array(del_theta)\n",
    "\n",
    "#########################################################################################\n",
    "#########################################################################################\n",
    "\n",
    "def train_accuracy(y_pred_k, y, k):\n",
    "    \n",
    "    return 1 if y_pred_k == y.iloc[k] else 0\n",
    "\n",
    "#########################################################################################\n",
    "#########################################################################################\n",
    "    \n",
    "def stochastic_gd(N, X, y, theta, lr = 5e-2, num_epochs=50, show_progress=True, seed_simulator=None):\n",
    "    \n",
    "    loss_each_epoch = []\n",
    "    accuracy_each_epoch = []\n",
    "    \n",
    "    if show_progress:\n",
    "        print(\"Epoch \\t Loss \\t Training Accuracy\")\n",
    "    \n",
    "    for n in range(num_epochs):\n",
    "        \n",
    "        loss_inter_epoch = []\n",
    "        accuracy_inter_epoch = []\n",
    "        \n",
    "        for k in range(X.shape[0]):\n",
    "        \n",
    "            qc = build_circuit(N, 1, X, theta, k, show_circuit=False)\n",
    "\n",
    "            p_y_k, y_pred_k = vqc(qc, seed_simulator=seed_simulator)\n",
    "            \n",
    "            loss_inter_epoch.append(loss_SE(p_y_k, y, k))\n",
    "            \n",
    "            accuracy_inter_epoch.append(train_accuracy(y_pred_k, y, k))\n",
    "            \n",
    "            theta = theta - lr * gradient(N, X, y, k, p_y_k, theta, seed_simulator=seed_simulator)\n",
    "    \n",
    "        loss_each_epoch.append(np.mean(loss_inter_epoch)) \n",
    "        accuracy_each_epoch.append(np.mean(accuracy_inter_epoch)) \n",
    "        \n",
    "        if show_progress:\n",
    "            print(n+1, \"\\t\", round(loss_each_epoch[-1], 3), \"\\t\", round(accuracy_each_epoch[-1], 3))\n",
    "            \n",
    "    return loss_each_epoch, accuracy_each_epoch, theta"
   ]
  },
  {
   "cell_type": "markdown",
   "metadata": {},
   "source": [
    "Now, let's run the full model training:"
   ]
  },
  {
   "cell_type": "code",
   "execution_count": 36,
   "metadata": {
    "ExecuteTime": {
     "end_time": "2021-05-17T15:18:50.311394Z",
     "start_time": "2021-05-17T15:17:47.281743Z"
    },
    "scrolled": true
   },
   "outputs": [
    {
     "name": "stdout",
     "output_type": "stream",
     "text": [
      "Epoch \t Loss \t Training Accuracy\n",
      "1 \t 0.215 \t 0.775\n",
      "2 \t 0.215 \t 0.788\n",
      "3 \t 0.214 \t 0.762\n",
      "4 \t 0.211 \t 0.788\n",
      "5 \t 0.21 \t 0.8\n",
      "6 \t 0.21 \t 0.788\n",
      "7 \t 0.208 \t 0.775\n",
      "8 \t 0.205 \t 0.8\n",
      "9 \t 0.204 \t 0.762\n",
      "10 \t 0.203 \t 0.838\n",
      "11 \t 0.202 \t 0.825\n",
      "12 \t 0.201 \t 0.838\n",
      "13 \t 0.201 \t 0.825\n",
      "14 \t 0.201 \t 0.85\n",
      "15 \t 0.2 \t 0.825\n",
      "16 \t 0.201 \t 0.825\n",
      "17 \t 0.199 \t 0.862\n",
      "18 \t 0.199 \t 0.85\n",
      "19 \t 0.198 \t 0.862\n",
      "20 \t 0.197 \t 0.875\n"
     ]
    }
   ],
   "source": [
    "N = X_train.shape[1]\n",
    "\n",
    "np.random.seed(42)\n",
    "\n",
    "theta = np.random.uniform(0, 2*np.pi, N)\n",
    "\n",
    "# making a copy for later comparison\n",
    "theta_0 = theta.copy()\n",
    "\n",
    "num_epochs = 20\n",
    "\n",
    "training_loss, training_accuracy, theta_final = stochastic_gd(N, X_train, y_train, theta,\n",
    "                                                              lr = 0.01, num_epochs=num_epochs, \n",
    "                                                              seed_simulator=42)"
   ]
  },
  {
   "cell_type": "code",
   "execution_count": 37,
   "metadata": {
    "ExecuteTime": {
     "end_time": "2021-05-17T15:18:50.756223Z",
     "start_time": "2021-05-17T15:18:50.313964Z"
    }
   },
   "outputs": [
    {
     "data": {
      "image/png": "[encoded data removed]",
      "text/plain": [
       "<Figure size 432x288 with 1 Axes>"
      ]
     },
     "metadata": {
      "needs_background": "light"
     },
     "output_type": "display_data"
    },
    {
     "data": {
      "image/png": "[encoded data removed]",
      "text/plain": [
       "<Figure size 432x288 with 1 Axes>"
      ]
     },
     "metadata": {
      "needs_background": "light"
     },
     "output_type": "display_data"
    }
   ],
   "source": [
    "plt.title(\"Loss function during training\")\n",
    "\n",
    "sns.lineplot(x = range((len(training_loss))), y=training_loss, color=\"blue\")\n",
    "\n",
    "plt.xlabel(\"Epoch #\")\n",
    "plt.ylabel(\"Loss\")\n",
    "plt.show()\n",
    "\n",
    "plt.title(\"Accuracy during training\")\n",
    "\n",
    "sns.lineplot(x = range((len(training_accuracy))), y=training_accuracy, color=\"orange\")\n",
    "\n",
    "plt.xlabel(\"Epoch #\")\n",
    "plt.ylabel(\"Accuracy\")\n",
    "plt.show()"
   ]
  },
  {
   "cell_type": "markdown",
   "metadata": {},
   "source": [
    "Let's take a look in the final trained variational parameters:"
   ]
  },
  {
   "cell_type": "code",
   "execution_count": 38,
   "metadata": {
    "ExecuteTime": {
     "end_time": "2021-05-17T15:18:50.763359Z",
     "start_time": "2021-05-17T15:18:50.758193Z"
    }
   },
   "outputs": [
    {
     "name": "stdout",
     "output_type": "stream",
     "text": [
      "Final variational parameters vector: [2.88453497 5.94230016 4.72625958 3.87948019]\n",
      "\n",
      "Mean training accuracy in the 20 epochs: 0.815625\n"
     ]
    }
   ],
   "source": [
    "print(\"Final variational parameters vector:\", theta_final)\n",
    "\n",
    "print(\"\\nMean training accuracy in the\", num_epochs, \"epochs:\", np.mean(training_accuracy))"
   ]
  },
  {
   "cell_type": "markdown",
   "metadata": {},
   "source": [
    "_________\n",
    "\n",
    "Let's now evaluate the VQC on the test set:"
   ]
  },
  {
   "cell_type": "code",
   "execution_count": 39,
   "metadata": {
    "ExecuteTime": {
     "end_time": "2021-05-17T15:18:51.110535Z",
     "start_time": "2021-05-17T15:18:50.765465Z"
    }
   },
   "outputs": [],
   "source": [
    "y_pred = []\n",
    "\n",
    "for k in range(X_test.shape[0]):\n",
    "    \n",
    "    qc = build_circuit(N, 1, X_test, theta_final, k, show_circuit=False)\n",
    "\n",
    "    _, y_pred_k = vqc(qc, seed_simulator=42)\n",
    "                      \n",
    "    y_pred.append(y_pred_k)"
   ]
  },
  {
   "cell_type": "code",
   "execution_count": 40,
   "metadata": {
    "ExecuteTime": {
     "end_time": "2021-05-17T15:18:51.132590Z",
     "start_time": "2021-05-17T15:18:51.112454Z"
    },
    "scrolled": false
   },
   "outputs": [
    {
     "name": "stdout",
     "output_type": "stream",
     "text": [
      "Quantum classifier (VQC):\n",
      "\n",
      "              precision    recall  f1-score   support\n",
      "\n",
      "           0       1.00      0.80      0.89        10\n",
      "           1       0.83      1.00      0.91        10\n",
      "\n",
      "    accuracy                           0.90        20\n",
      "   macro avg       0.92      0.90      0.90        20\n",
      "weighted avg       0.92      0.90      0.90        20\n",
      "\n",
      "[[ 8  2]\n",
      " [ 0 10]]\n"
     ]
    }
   ],
   "source": [
    "print(\"Quantum classifier (VQC):\\n\")\n",
    "\n",
    "print(classification_report(y_test, y_pred))\n",
    "print(confusion_matrix(y_test, y_pred))"
   ]
  },
  {
   "cell_type": "markdown",
   "metadata": {},
   "source": [
    "That's it!\n",
    "\n",
    "In this notebook, we implemented a VQC from scratch, to better understand its inner workings.\n",
    "\n",
    "The model achieved good performance, but considering that the iris dataset is linearly separable, a 100% performance would be expected. Why the quantum classifier wasn't able to capture this linear separability certainly is a very interesting question, worthy further research. \n",
    "\n",
    "Some directions of improvements could be, for instance: testing different architecutres of both the feature map and variational layer of the quantum circuit, or even in the choice of more suitable loss functions.\n",
    "\n",
    "This is done in [this notebook](./vqc_iris_experiments.ipynb), in which different configurations are tested. All the components of the VQC model (including the aforementioned improvements) will be integrated in a [separate .py file](./vqc.py), which will be imported as a library, thus allowing for easier experimentation!\n",
    "\n",
    "With this, we hope to find better results, or hints that the limitations may be in other components of the algorithm (the optimization step, for instance).\n",
    "________"
   ]
  }
 ],
 "metadata": {
  "kernelspec": {
   "display_name": "Python 3",
   "language": "python",
   "name": "python3"
  },
  "language_info": {
   "codemirror_mode": {
    "name": "ipython",
    "version": 3
   },
   "file_extension": ".py",
   "mimetype": "text/x-python",
   "name": "python",
   "nbconvert_exporter": "python",
   "pygments_lexer": "ipython3",
   "version": "3.8.5"
  }
 },
 "nbformat": 4,
 "nbformat_minor": 4
}
